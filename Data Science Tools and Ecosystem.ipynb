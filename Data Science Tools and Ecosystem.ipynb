{
 "cells": [
  {
   "cell_type": "markdown",
   "id": "99028063",
   "metadata": {},
   "source": [
    "# Data Science Tools and Ecosystem"
   ]
  },
  {
   "cell_type": "markdown",
   "id": "a4653e49",
   "metadata": {},
   "source": [
    "In this notebook, Data Science Tools and Echosystem are summarized."
   ]
  },
  {
   "cell_type": "markdown",
   "id": "4d5026f2",
   "metadata": {},
   "source": [
    "<b>Objectives:</b>"
   ]
  },
  {
   "cell_type": "markdown",
   "id": "23ddff1c",
   "metadata": {},
   "source": [
    "- Review popular languages used in Data Science\n",
    "- Review common libraries used in Data Science \n",
    "- Review common open source tools used in Data Science\n",
    "- Review simple arithmetic expressions in a Jupyter notebook"
   ]
  },
  {
   "cell_type": "markdown",
   "id": "36e0fe17",
   "metadata": {},
   "source": [
    "Some of the popular languages that Data Scientists use are:\n",
    "1. R\n",
    "2. Python\n",
    "3. SQL\n",
    "4. Scala\n",
    "5. Java\n",
    "6. C++\n"
   ]
  },
  {
   "cell_type": "markdown",
   "id": "4ce994e3",
   "metadata": {},
   "source": [
    "Some of the commonly libraries used by Data Scientists include:\n",
    "1. Pandas\n",
    "2. NumPy\n",
    "3. SciPy\n",
    "4. Matplotlib"
   ]
  },
  {
   "cell_type": "markdown",
   "id": "28b987dd",
   "metadata": {},
   "source": [
    "|Data Science Tools |\n",
    "|---|\n",
    "|JupyterLab|\n",
    "|R Studio|\n",
    "|Visual Studio|\n"
   ]
  },
  {
   "cell_type": "markdown",
   "id": "fb1cabd6",
   "metadata": {},
   "source": [
    "### Below are a few examples of evaluating arithmetic expressions in Python"
   ]
  },
  {
   "cell_type": "code",
   "execution_count": 3,
   "id": "3d721370",
   "metadata": {},
   "outputs": [
    {
     "data": {
      "text/plain": [
       "17"
      ]
     },
     "execution_count": 3,
     "metadata": {},
     "output_type": "execute_result"
    }
   ],
   "source": [
    "# This is a simple arithmetic expression to multiply hten add integers\n",
    "(3*4)+5"
   ]
  },
  {
   "cell_type": "code",
   "execution_count": 4,
   "id": "9c59dce9",
   "metadata": {},
   "outputs": [
    {
     "name": "stdout",
     "output_type": "stream",
     "text": [
      "Total Hours: 3.3333333333333335\n"
     ]
    }
   ],
   "source": [
    "# This code converts 200 minutes into hours\n",
    "minutes = 200\n",
    "hours = minutes / 60\n",
    "print(\"Total Hours:\",hours)\n"
   ]
  },
  {
   "cell_type": "markdown",
   "id": "2bfed0af",
   "metadata": {},
   "source": [
    "## Author\n",
    "Richard M. Delia"
   ]
  },
  {
   "cell_type": "code",
   "execution_count": null,
   "id": "925320bf",
   "metadata": {},
   "outputs": [],
   "source": []
  }
 ],
 "metadata": {
  "kernelspec": {
   "display_name": "Python 3 (ipykernel)",
   "language": "python",
   "name": "python3"
  },
  "language_info": {
   "codemirror_mode": {
    "name": "ipython",
    "version": 3
   },
   "file_extension": ".py",
   "mimetype": "text/x-python",
   "name": "python",
   "nbconvert_exporter": "python",
   "pygments_lexer": "ipython3",
   "version": "3.10.9"
  }
 },
 "nbformat": 4,
 "nbformat_minor": 5
}
